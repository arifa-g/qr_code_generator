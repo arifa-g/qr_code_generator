{
 "cells": [
  {
   "cell_type": "code",
   "execution_count": null,
   "id": "7e15fc5b",
   "metadata": {},
   "outputs": [],
   "source": [
    "from tkinter import *\n",
    "2\n",
    "       import pyqrcode\n",
    "I\n",
    "       from PIL import ImageTk, Image\n",
    "1\n",
    "       root = Tk()\n",
    "       def generate():\n",
    "               link_name\n",
    "       canvas\n",
    "                    = Canvas(root, width=400, height=600)\n",
    "       canvas. pack()\n",
    "I\n",
    "I\n",
    "       app_label = Label(root, text=\" \"QR Code Generator\",\n",
    "                                          fg= 'blue', font=(\"Arial\", 30) )\n",
    "       canvas. create_window(200, 50, window-app_label)\n"
   ]
  }
 ],
 "metadata": {
  "kernelspec": {
   "display_name": "Python 3 (ipykernel)",
   "language": "python",
   "name": "python3"
  },
  "language_info": {
   "codemirror_mode": {
    "name": "ipython",
    "version": 3
   },
   "file_extension": ".py",
   "mimetype": "text/x-python",
   "name": "python",
   "nbconvert_exporter": "python",
   "pygments_lexer": "ipython3",
   "version": "3.9.12"
  }
 },
 "nbformat": 4,
 "nbformat_minor": 5
}
